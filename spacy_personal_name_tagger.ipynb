{
 "cells": [
  {
   "cell_type": "markdown",
   "metadata": {},
   "source": [
    "# Spacy NER - Person Identification "
   ]
  },
  {
   "cell_type": "code",
   "execution_count": 8,
   "metadata": {},
   "outputs": [
    {
     "name": "stdout",
     "output_type": "stream",
     "text": [
      "John Smith 75 85 PERSON\n",
      "John smith 139 149 PERSON\n",
      "John S. 153 160 PERSON\n",
      "john smith 164 174 PERSON\n",
      "John W. Smith 181 194 PERSON\n",
      "John Albert Smith 203 220 PERSON\n",
      "Smith 269 274 PERSON\n"
     ]
    }
   ],
   "source": [
    "import spacy\n",
    "\n",
    "nlp = spacy.load('en_core_web_lg')\n",
    "\n",
    "doc = nlp(u'In this example text well test how spacy parses out personal names such as John Smith. However, there might always be limitations, such as John smith or John S. or john smith., Mr. John W. Smith, Mister John Albert Smith Is it robust to spelling mistakes? Such as: jHn Smith, J S ith')\n",
    "\n",
    "for ent in doc.ents:\n",
    "\n",
    "    print(ent.text, ent.start_char, ent.end_char, ent.label_)\n",
    "#Catches most variants, mispellings can be checked.\n",
    "\n",
    "#J S ith could be eliminated with hunspell"
   ]
  },
  {
   "cell_type": "code",
   "execution_count": null,
   "metadata": {},
   "outputs": [],
   "source": []
  }
 ],
 "metadata": {
  "kernelspec": {
   "display_name": "gpu",
   "language": "python",
   "name": "gpu"
  },
  "language_info": {
   "codemirror_mode": {
    "name": "ipython",
    "version": 3
   },
   "file_extension": ".py",
   "mimetype": "text/x-python",
   "name": "python",
   "nbconvert_exporter": "python",
   "pygments_lexer": "ipython3",
   "version": "3.7.3"
  }
 },
 "nbformat": 4,
 "nbformat_minor": 2
}
