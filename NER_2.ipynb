{
 "cells": [
  {
   "cell_type": "markdown",
   "metadata": {},
   "source": [
    "# Spacy NER - Person Identification "
   ]
  },
  {
   "cell_type": "code",
   "execution_count": 10,
   "metadata": {},
   "outputs": [
    {
     "name": "stdout",
     "output_type": "stream",
     "text": [
      "John Bridges 16 28 PERSON\n",
      "John Smith 88 98 PERSON\n",
      "John smith 152 162 PERSON\n",
      "John S. 166 173 PERSON\n",
      "john smith 177 187 PERSON\n",
      "John W. Smith 194 207 PERSON\n",
      "John Albert Smith 216 233 PERSON\n",
      "Smith 282 287 PERSON\n"
     ]
    }
   ],
   "source": [
    "import spacy\n",
    "\n",
    "nlp = spacy.load('en_core_web_lg')\n",
    "\n",
    "doc = nlp(u'In this example John Bridges text well test how spacy parses out personal names such as John Smith. However, there might always be limitations, such as John smith or John S. or john smith., Mr. John W. Smith, Mister John Albert Smith Is it robust to spelling mistakes? Such as: jHn Smith, J S ith')\n",
    "\n",
    "for ent in doc.ents:\n",
    "\n",
    "    print(ent.text, ent.start_char, ent.end_char, ent.label_)\n",
    "#Catches most variants, mispellings can be checked.\n",
    "\n",
    "#J S ith could be eliminated with hunspell"
   ]
  },
  {
   "cell_type": "code",
   "execution_count": null,
   "metadata": {},
   "outputs": [],
   "source": [
    "\n"
   ]
  }
 ],
 "metadata": {
  "kernelspec": {
   "display_name": "gpu",
   "language": "python",
   "name": "gpu"
  },
  "language_info": {
   "codemirror_mode": {
    "name": "ipython",
    "version": 3
   },
   "file_extension": ".py",
   "mimetype": "text/x-python",
   "name": "python",
   "nbconvert_exporter": "python",
   "pygments_lexer": "ipython3",
   "version": "3.7.3"
  }
 },
 "nbformat": 4,
 "nbformat_minor": 2
}
